{
 "cells": [
  {
   "cell_type": "code",
   "execution_count": 27,
   "metadata": {},
   "outputs": [],
   "source": [
    "import pandas as pd\n",
    "import numpy as np\n",
    "import matplotlib.pyplot as plt\n",
    "import seaborn as sns"
   ]
  },
  {
   "cell_type": "code",
   "execution_count": 2,
   "metadata": {},
   "outputs": [],
   "source": [
    "mydata=pd.read_csv(\"C:/Users/DIVYA/Downloads/di.csv\")\n",
    "mydata.drop(['currentSmoker','education','diaBP','heartRate'],axis=1,inplace=True)"
   ]
  },
  {
   "cell_type": "code",
   "execution_count": 3,
   "metadata": {},
   "outputs": [],
   "source": [
    "mean = mydata['glucose'].mean()\n",
    "mydata['glucose'].fillna(mean, inplace=True)\n",
    "\n",
    "mean = mydata['totChol'].mean()\n",
    "mydata['totChol'].fillna(mean, inplace=True)\n",
    "\n",
    "mean = mydata['BMI'].mean()\n",
    "mydata['BMI'].fillna(mean, inplace=True)\n",
    "\n",
    "mean = mydata['cigsPerDay'].mean()\n",
    "mydata['cigsPerDay'].fillna(mean, inplace=True)"
   ]
  },
  {
   "cell_type": "code",
   "execution_count": 4,
   "metadata": {},
   "outputs": [],
   "source": [
    "def missing_cat(series):\n",
    "    mode=series.value_counts().index[0]\n",
    "    series=series.fillna(mode)\n",
    "    return series\n",
    "\n",
    "for x in mydata:\n",
    "    mydata[x]=missing_cat(mydata[x])"
   ]
  },
  {
   "cell_type": "code",
   "execution_count": 5,
   "metadata": {},
   "outputs": [
    {
     "data": {
      "text/html": [
       "<div>\n",
       "<style scoped>\n",
       "    .dataframe tbody tr th:only-of-type {\n",
       "        vertical-align: middle;\n",
       "    }\n",
       "\n",
       "    .dataframe tbody tr th {\n",
       "        vertical-align: top;\n",
       "    }\n",
       "\n",
       "    .dataframe thead th {\n",
       "        text-align: right;\n",
       "    }\n",
       "</style>\n",
       "<table border=\"1\" class=\"dataframe\">\n",
       "  <thead>\n",
       "    <tr style=\"text-align: right;\">\n",
       "      <th></th>\n",
       "      <th>Unnamed: 0</th>\n",
       "      <th>male</th>\n",
       "      <th>age</th>\n",
       "      <th>cigsPerDay</th>\n",
       "      <th>BPMeds</th>\n",
       "      <th>prevalentStroke</th>\n",
       "      <th>prevalentHyp</th>\n",
       "      <th>diabetes</th>\n",
       "      <th>totChol</th>\n",
       "      <th>sysBP</th>\n",
       "      <th>BMI</th>\n",
       "      <th>glucose</th>\n",
       "      <th>TenYearCHD</th>\n",
       "    </tr>\n",
       "  </thead>\n",
       "  <tbody>\n",
       "    <tr>\n",
       "      <td>Unnamed: 0</td>\n",
       "      <td>1.000000</td>\n",
       "      <td>0.012481</td>\n",
       "      <td>0.011773</td>\n",
       "      <td>0.004909</td>\n",
       "      <td>0.022549</td>\n",
       "      <td>0.035221</td>\n",
       "      <td>0.024818</td>\n",
       "      <td>0.008877</td>\n",
       "      <td>-0.009751</td>\n",
       "      <td>0.008497</td>\n",
       "      <td>-0.000724</td>\n",
       "      <td>-0.025843</td>\n",
       "      <td>-0.011045</td>\n",
       "    </tr>\n",
       "    <tr>\n",
       "      <td>male</td>\n",
       "      <td>0.012481</td>\n",
       "      <td>1.000000</td>\n",
       "      <td>-0.001357</td>\n",
       "      <td>0.312436</td>\n",
       "      <td>-0.041406</td>\n",
       "      <td>0.016096</td>\n",
       "      <td>0.046580</td>\n",
       "      <td>0.009562</td>\n",
       "      <td>-0.045958</td>\n",
       "      <td>0.025992</td>\n",
       "      <td>0.157492</td>\n",
       "      <td>0.001864</td>\n",
       "      <td>0.103260</td>\n",
       "    </tr>\n",
       "    <tr>\n",
       "      <td>age</td>\n",
       "      <td>0.011773</td>\n",
       "      <td>-0.001357</td>\n",
       "      <td>1.000000</td>\n",
       "      <td>-0.175847</td>\n",
       "      <td>0.094269</td>\n",
       "      <td>0.044106</td>\n",
       "      <td>0.276604</td>\n",
       "      <td>0.031363</td>\n",
       "      <td>0.275178</td>\n",
       "      <td>0.371426</td>\n",
       "      <td>0.131615</td>\n",
       "      <td>0.078483</td>\n",
       "      <td>0.213271</td>\n",
       "    </tr>\n",
       "    <tr>\n",
       "      <td>cigsPerDay</td>\n",
       "      <td>0.004909</td>\n",
       "      <td>0.312436</td>\n",
       "      <td>-0.175847</td>\n",
       "      <td>1.000000</td>\n",
       "      <td>-0.043080</td>\n",
       "      <td>-0.021950</td>\n",
       "      <td>-0.038459</td>\n",
       "      <td>-0.011356</td>\n",
       "      <td>-0.014587</td>\n",
       "      <td>-0.057677</td>\n",
       "      <td>-0.070858</td>\n",
       "      <td>-0.071700</td>\n",
       "      <td>0.067774</td>\n",
       "    </tr>\n",
       "    <tr>\n",
       "      <td>BPMeds</td>\n",
       "      <td>0.022549</td>\n",
       "      <td>-0.041406</td>\n",
       "      <td>0.094269</td>\n",
       "      <td>-0.043080</td>\n",
       "      <td>1.000000</td>\n",
       "      <td>0.100996</td>\n",
       "      <td>0.239171</td>\n",
       "      <td>0.012508</td>\n",
       "      <td>0.034917</td>\n",
       "      <td>0.181589</td>\n",
       "      <td>0.066747</td>\n",
       "      <td>-0.024466</td>\n",
       "      <td>0.045949</td>\n",
       "    </tr>\n",
       "    <tr>\n",
       "      <td>prevalentStroke</td>\n",
       "      <td>0.035221</td>\n",
       "      <td>0.016096</td>\n",
       "      <td>0.044106</td>\n",
       "      <td>-0.021950</td>\n",
       "      <td>0.100996</td>\n",
       "      <td>1.000000</td>\n",
       "      <td>0.072944</td>\n",
       "      <td>-0.005648</td>\n",
       "      <td>-0.004554</td>\n",
       "      <td>0.061215</td>\n",
       "      <td>-0.001836</td>\n",
       "      <td>-0.006964</td>\n",
       "      <td>0.063813</td>\n",
       "    </tr>\n",
       "    <tr>\n",
       "      <td>prevalentHyp</td>\n",
       "      <td>0.024818</td>\n",
       "      <td>0.046580</td>\n",
       "      <td>0.276604</td>\n",
       "      <td>-0.038459</td>\n",
       "      <td>0.239171</td>\n",
       "      <td>0.072944</td>\n",
       "      <td>1.000000</td>\n",
       "      <td>0.043514</td>\n",
       "      <td>0.145946</td>\n",
       "      <td>0.686283</td>\n",
       "      <td>0.248819</td>\n",
       "      <td>0.039468</td>\n",
       "      <td>0.140408</td>\n",
       "    </tr>\n",
       "    <tr>\n",
       "      <td>diabetes</td>\n",
       "      <td>0.008877</td>\n",
       "      <td>0.009562</td>\n",
       "      <td>0.031363</td>\n",
       "      <td>-0.011356</td>\n",
       "      <td>0.012508</td>\n",
       "      <td>-0.005648</td>\n",
       "      <td>0.043514</td>\n",
       "      <td>1.000000</td>\n",
       "      <td>0.006658</td>\n",
       "      <td>0.039574</td>\n",
       "      <td>0.005625</td>\n",
       "      <td>0.047820</td>\n",
       "      <td>0.017703</td>\n",
       "    </tr>\n",
       "    <tr>\n",
       "      <td>totChol</td>\n",
       "      <td>-0.009751</td>\n",
       "      <td>-0.045958</td>\n",
       "      <td>0.275178</td>\n",
       "      <td>-0.014587</td>\n",
       "      <td>0.034917</td>\n",
       "      <td>-0.004554</td>\n",
       "      <td>0.145946</td>\n",
       "      <td>0.006658</td>\n",
       "      <td>1.000000</td>\n",
       "      <td>0.200783</td>\n",
       "      <td>0.155458</td>\n",
       "      <td>0.010922</td>\n",
       "      <td>0.067887</td>\n",
       "    </tr>\n",
       "    <tr>\n",
       "      <td>sysBP</td>\n",
       "      <td>0.008497</td>\n",
       "      <td>0.025992</td>\n",
       "      <td>0.371426</td>\n",
       "      <td>-0.057677</td>\n",
       "      <td>0.181589</td>\n",
       "      <td>0.061215</td>\n",
       "      <td>0.686283</td>\n",
       "      <td>0.039574</td>\n",
       "      <td>0.200783</td>\n",
       "      <td>1.000000</td>\n",
       "      <td>0.273463</td>\n",
       "      <td>0.065837</td>\n",
       "      <td>0.169210</td>\n",
       "    </tr>\n",
       "    <tr>\n",
       "      <td>BMI</td>\n",
       "      <td>-0.000724</td>\n",
       "      <td>0.157492</td>\n",
       "      <td>0.131615</td>\n",
       "      <td>-0.070858</td>\n",
       "      <td>0.066747</td>\n",
       "      <td>-0.001836</td>\n",
       "      <td>0.248819</td>\n",
       "      <td>0.005625</td>\n",
       "      <td>0.155458</td>\n",
       "      <td>0.273463</td>\n",
       "      <td>1.000000</td>\n",
       "      <td>0.059908</td>\n",
       "      <td>0.058965</td>\n",
       "    </tr>\n",
       "    <tr>\n",
       "      <td>glucose</td>\n",
       "      <td>-0.025843</td>\n",
       "      <td>0.001864</td>\n",
       "      <td>0.078483</td>\n",
       "      <td>-0.071700</td>\n",
       "      <td>-0.024466</td>\n",
       "      <td>-0.006964</td>\n",
       "      <td>0.039468</td>\n",
       "      <td>0.047820</td>\n",
       "      <td>0.010922</td>\n",
       "      <td>0.065837</td>\n",
       "      <td>0.059908</td>\n",
       "      <td>1.000000</td>\n",
       "      <td>0.010491</td>\n",
       "    </tr>\n",
       "    <tr>\n",
       "      <td>TenYearCHD</td>\n",
       "      <td>-0.011045</td>\n",
       "      <td>0.103260</td>\n",
       "      <td>0.213271</td>\n",
       "      <td>0.067774</td>\n",
       "      <td>0.045949</td>\n",
       "      <td>0.063813</td>\n",
       "      <td>0.140408</td>\n",
       "      <td>0.017703</td>\n",
       "      <td>0.067887</td>\n",
       "      <td>0.169210</td>\n",
       "      <td>0.058965</td>\n",
       "      <td>0.010491</td>\n",
       "      <td>1.000000</td>\n",
       "    </tr>\n",
       "  </tbody>\n",
       "</table>\n",
       "</div>"
      ],
      "text/plain": [
       "                 Unnamed: 0      male       age  cigsPerDay    BPMeds  \\\n",
       "Unnamed: 0         1.000000  0.012481  0.011773    0.004909  0.022549   \n",
       "male               0.012481  1.000000 -0.001357    0.312436 -0.041406   \n",
       "age                0.011773 -0.001357  1.000000   -0.175847  0.094269   \n",
       "cigsPerDay         0.004909  0.312436 -0.175847    1.000000 -0.043080   \n",
       "BPMeds             0.022549 -0.041406  0.094269   -0.043080  1.000000   \n",
       "prevalentStroke    0.035221  0.016096  0.044106   -0.021950  0.100996   \n",
       "prevalentHyp       0.024818  0.046580  0.276604   -0.038459  0.239171   \n",
       "diabetes           0.008877  0.009562  0.031363   -0.011356  0.012508   \n",
       "totChol           -0.009751 -0.045958  0.275178   -0.014587  0.034917   \n",
       "sysBP              0.008497  0.025992  0.371426   -0.057677  0.181589   \n",
       "BMI               -0.000724  0.157492  0.131615   -0.070858  0.066747   \n",
       "glucose           -0.025843  0.001864  0.078483   -0.071700 -0.024466   \n",
       "TenYearCHD        -0.011045  0.103260  0.213271    0.067774  0.045949   \n",
       "\n",
       "                 prevalentStroke  prevalentHyp  diabetes   totChol     sysBP  \\\n",
       "Unnamed: 0              0.035221      0.024818  0.008877 -0.009751  0.008497   \n",
       "male                    0.016096      0.046580  0.009562 -0.045958  0.025992   \n",
       "age                     0.044106      0.276604  0.031363  0.275178  0.371426   \n",
       "cigsPerDay             -0.021950     -0.038459 -0.011356 -0.014587 -0.057677   \n",
       "BPMeds                  0.100996      0.239171  0.012508  0.034917  0.181589   \n",
       "prevalentStroke         1.000000      0.072944 -0.005648 -0.004554  0.061215   \n",
       "prevalentHyp            0.072944      1.000000  0.043514  0.145946  0.686283   \n",
       "diabetes               -0.005648      0.043514  1.000000  0.006658  0.039574   \n",
       "totChol                -0.004554      0.145946  0.006658  1.000000  0.200783   \n",
       "sysBP                   0.061215      0.686283  0.039574  0.200783  1.000000   \n",
       "BMI                    -0.001836      0.248819  0.005625  0.155458  0.273463   \n",
       "glucose                -0.006964      0.039468  0.047820  0.010922  0.065837   \n",
       "TenYearCHD              0.063813      0.140408  0.017703  0.067887  0.169210   \n",
       "\n",
       "                      BMI   glucose  TenYearCHD  \n",
       "Unnamed: 0      -0.000724 -0.025843   -0.011045  \n",
       "male             0.157492  0.001864    0.103260  \n",
       "age              0.131615  0.078483    0.213271  \n",
       "cigsPerDay      -0.070858 -0.071700    0.067774  \n",
       "BPMeds           0.066747 -0.024466    0.045949  \n",
       "prevalentStroke -0.001836 -0.006964    0.063813  \n",
       "prevalentHyp     0.248819  0.039468    0.140408  \n",
       "diabetes         0.005625  0.047820    0.017703  \n",
       "totChol          0.155458  0.010922    0.067887  \n",
       "sysBP            0.273463  0.065837    0.169210  \n",
       "BMI              1.000000  0.059908    0.058965  \n",
       "glucose          0.059908  1.000000    0.010491  \n",
       "TenYearCHD       0.058965  0.010491    1.000000  "
      ]
     },
     "execution_count": 5,
     "metadata": {},
     "output_type": "execute_result"
    }
   ],
   "source": [
    "mydata.corr()"
   ]
  },
  {
   "cell_type": "code",
   "execution_count": 7,
   "metadata": {},
   "outputs": [],
   "source": [
    "mydata.rename(columns={'male':'Gender'},inplace=True)"
   ]
  },
  {
   "cell_type": "code",
   "execution_count": 8,
   "metadata": {},
   "outputs": [
    {
     "name": "stderr",
     "output_type": "stream",
     "text": [
      "C:\\Users\\DIVYA\\Anaconda3\\lib\\site-packages\\statsmodels\\compat\\pandas.py:49: FutureWarning: The Panel class is removed from pandas. Accessing it from the top-level namespace will also be removed in the next version\n",
      "  data_klasses = (pandas.Series, pandas.DataFrame, pandas.Panel)\n"
     ]
    },
    {
     "name": "stdout",
     "output_type": "stream",
     "text": [
      "Unnamed: 0 VIF = 1.0\n",
      "Gender VIF = 1.16\n",
      "age VIF = 1.27\n",
      "cigsPerDay VIF = 1.17\n",
      "BPMeds VIF = 1.08\n",
      "prevalentStroke VIF = 1.02\n",
      "prevalentHyp VIF = 1.96\n",
      "diabetes VIF = 1.0\n",
      "totChol VIF = 1.12\n",
      "sysBP VIF = 2.08\n",
      "BMI VIF = 1.15\n",
      "glucose VIF = 1.02\n"
     ]
    }
   ],
   "source": [
    "def vif_cal(input_data,dependent_col):\n",
    "    import statsmodels.formula.api as sm\n",
    "    x_vars=input_data.drop([dependent_col], axis=1)\n",
    "    xvar_names=x_vars.columns\n",
    "    for i in range(0,xvar_names.shape[0]):\n",
    "        y=x_vars[xvar_names[i]]\n",
    "        x=x_vars[xvar_names.drop(xvar_names[i])]\n",
    "        rsq=sm.ols(formula=\"y~x\",data=x_vars).fit().rsquared\n",
    "        vif=round(1/(1-rsq),2)\n",
    "        print (xvar_names[i], \"VIF =\" , vif)\n",
    "        \n",
    "vif_cal(input_data=mydata, dependent_col=\"TenYearCHD\")"
   ]
  },
  {
   "cell_type": "code",
   "execution_count": 10,
   "metadata": {},
   "outputs": [],
   "source": [
    "feature_cols = ['Gender', 'age', 'cigsPerDay','prevalentStroke', 'prevalentHyp',\n",
    "                'diabetes', 'totChol', 'sysBP', 'BMI','glucose']\n",
    "\n",
    "X = mydata[feature_cols]\n",
    "Y = mydata.TenYearCHD"
   ]
  },
  {
   "cell_type": "code",
   "execution_count": 11,
   "metadata": {},
   "outputs": [],
   "source": [
    "import sklearn.model_selection as ms\n",
    "import sklearn.preprocessing as pre\n",
    "import sklearn.linear_model as lm\n",
    "from sklearn.preprocessing import StandardScaler"
   ]
  },
  {
   "cell_type": "code",
   "execution_count": 12,
   "metadata": {},
   "outputs": [
    {
     "data": {
      "text/plain": [
       "(3701, 10)"
      ]
     },
     "execution_count": 12,
     "metadata": {},
     "output_type": "execute_result"
    }
   ],
   "source": [
    "X = pre.minmax_scale(X)\n",
    "X.shape"
   ]
  },
  {
   "cell_type": "code",
   "execution_count": 13,
   "metadata": {},
   "outputs": [],
   "source": [
    "scaler = StandardScaler()\n",
    "features_standardized = scaler.fit_transform(X)"
   ]
  },
  {
   "cell_type": "code",
   "execution_count": 14,
   "metadata": {},
   "outputs": [],
   "source": [
    "from sklearn.preprocessing import LabelEncoder\n",
    "label_encoder=LabelEncoder()\n",
    "for i in enumerate(X):\n",
    "    if X.dtype=='object':\n",
    "        X=labe_encoder.fit_transform((X))"
   ]
  },
  {
   "cell_type": "code",
   "execution_count": 15,
   "metadata": {},
   "outputs": [],
   "source": [
    "x_train,x_test,y_train,y_test = ms.train_test_split(X,Y,test_size=0.3,random_state=0)"
   ]
  },
  {
   "cell_type": "code",
   "execution_count": 16,
   "metadata": {},
   "outputs": [
    {
     "data": {
      "text/plain": [
       "((2590, 10), (1111, 10), (2590,), (1111,))"
      ]
     },
     "execution_count": 16,
     "metadata": {},
     "output_type": "execute_result"
    }
   ],
   "source": [
    "x_train.shape,x_test.shape,y_train.shape,y_test.shape"
   ]
  },
  {
   "cell_type": "code",
   "execution_count": 82,
   "metadata": {},
   "outputs": [],
   "source": [
    "classifier=lm.LogisticRegression(random_state=0,class_weight=\"None\",fit_intercept=True,intercept_scaling=1)\n",
    "classifier.fit(x_train,y_train)\n",
    "THRESHOLD = 0.16\n",
    "y_pred = np.where(classifier.predict_proba(x_test)[:,1]>THRESHOLD,1,0)"
   ]
  },
  {
   "cell_type": "code",
   "execution_count": 83,
   "metadata": {},
   "outputs": [
    {
     "data": {
      "text/plain": [
       "<matplotlib.axes._subplots.AxesSubplot at 0x262cfb06e10>"
      ]
     },
     "execution_count": 83,
     "metadata": {},
     "output_type": "execute_result"
    },
    {
     "data": {
      "image/png": "[encoded data removed]",
      "text/plain": [
       "<Figure size 576x360 with 2 Axes>"
      ]
     },
     "metadata": {
      "needs_background": "light"
     },
     "output_type": "display_data"
    }
   ],
   "source": [
    "from sklearn.metrics import confusion_matrix\n",
    "cm=confusion_matrix(y_test,y_pred)\n",
    "conf_matrix=pd.DataFrame(data=cm,columns=['Predicted:0','Predicted:1'],index=['Actual:0','Actual:1'])\n",
    "plt.figure(figsize=(8,5))\n",
    "sns.heatmap(conf_matrix, annot=True, fmt='d', cmap=\"YlGnBu\")"
   ]
  },
  {
   "cell_type": "code",
   "execution_count": 84,
   "metadata": {},
   "outputs": [
    {
     "data": {
      "text/html": [
       "<div>\n",
       "<style scoped>\n",
       "    .dataframe tbody tr th:only-of-type {\n",
       "        vertical-align: middle;\n",
       "    }\n",
       "\n",
       "    .dataframe tbody tr th {\n",
       "        vertical-align: top;\n",
       "    }\n",
       "\n",
       "    .dataframe thead th {\n",
       "        text-align: right;\n",
       "    }\n",
       "</style>\n",
       "<table border=\"1\" class=\"dataframe\">\n",
       "  <thead>\n",
       "    <tr style=\"text-align: right;\">\n",
       "      <th></th>\n",
       "      <th>Predicted:0</th>\n",
       "      <th>Predicted:1</th>\n",
       "    </tr>\n",
       "  </thead>\n",
       "  <tbody>\n",
       "    <tr>\n",
       "      <td>Actual:0</td>\n",
       "      <td>63.636364</td>\n",
       "      <td>22.232223</td>\n",
       "    </tr>\n",
       "    <tr>\n",
       "      <td>Actual:1</td>\n",
       "      <td>6.120612</td>\n",
       "      <td>8.010801</td>\n",
       "    </tr>\n",
       "  </tbody>\n",
       "</table>\n",
       "</div>"
      ],
      "text/plain": [
       "          Predicted:0  Predicted:1\n",
       "Actual:0    63.636364    22.232223\n",
       "Actual:1     6.120612     8.010801"
      ]
     },
     "execution_count": 84,
     "metadata": {},
     "output_type": "execute_result"
    }
   ],
   "source": [
    "(conf_matrix/len(y_test))*100"
   ]
  },
  {
   "cell_type": "code",
   "execution_count": 85,
   "metadata": {},
   "outputs": [
    {
     "data": {
      "text/plain": [
       "0.871042471042471"
      ]
     },
     "execution_count": 85,
     "metadata": {},
     "output_type": "execute_result"
    }
   ],
   "source": [
    "Accuracy=classifier.score(x_train,y_train)\n",
    "Accuracy"
   ]
  },
  {
   "cell_type": "code",
   "execution_count": 86,
   "metadata": {},
   "outputs": [
    {
     "data": {
      "text/plain": [
       "0.8586858685868587"
      ]
     },
     "execution_count": 86,
     "metadata": {},
     "output_type": "execute_result"
    }
   ],
   "source": [
    "Precision=classifier.score(x_test,y_test)\n",
    "Precision"
   ]
  },
  {
   "cell_type": "code",
   "execution_count": 87,
   "metadata": {},
   "outputs": [
    {
     "data": {
      "text/plain": [
       "0.5668789808917197"
      ]
     },
     "execution_count": 87,
     "metadata": {},
     "output_type": "execute_result"
    }
   ],
   "source": [
    "Recall = metrics.recall_score(y_test,y_pred)\n",
    "Recall"
   ]
  },
  {
   "cell_type": "code",
   "execution_count": 88,
   "metadata": {},
   "outputs": [
    {
     "data": {
      "image/png": "[encoded data removed]",
      "text/plain": [
       "<Figure size 432x288 with 1 Axes>"
      ]
     },
     "metadata": {
      "needs_background": "light"
     },
     "output_type": "display_data"
    }
   ],
   "source": [
    "from sklearn import metrics\n",
    "y_pred_proba = classifier.predict_proba(x_test)[::,1]\n",
    "fpr,tpr,_ = metrics.roc_curve(y_test, y_pred_proba)\n",
    "auc = metrics.roc_auc_score(y_test,y_pred_proba)\n",
    "plt.plot(fpr,tpr,label=\"data 1,auc=\"+str(auc))\n",
    "plt.legend(loc=4)\n",
    "plt.show()"
   ]
  }
 ],
 "metadata": {
  "kernelspec": {
   "display_name": "Python 3",
   "language": "python",
   "name": "python3"
  },
  "language_info": {
   "codemirror_mode": {
    "name": "ipython",
    "version": 3
   },
   "file_extension": ".py",
   "mimetype": "text/x-python",
   "name": "python",
   "nbconvert_exporter": "python",
   "pygments_lexer": "ipython3",
   "version": "3.7.6"
  }
 },
 "nbformat": 4,
 "nbformat_minor": 2
}
